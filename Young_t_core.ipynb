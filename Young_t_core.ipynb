{
  "nbformat": 4,
  "nbformat_minor": 0,
  "metadata": {
    "colab": {
      "provenance": [],
      "toc_visible": true,
      "authorship_tag": "ABX9TyPeiFPRwfKynRi3lQsYkLuY",
      "include_colab_link": true
    },
    "kernelspec": {
      "name": "python3",
      "display_name": "Python 3"
    },
    "language_info": {
      "name": "python"
    }
  },
  "cells": [
    {
      "cell_type": "markdown",
      "metadata": {
        "id": "view-in-github",
        "colab_type": "text"
      },
      "source": [
        "<a href=\"https://colab.research.google.com/github/AyakaKamata/Young-T-core/blob/main/Young_t_core.ipynb\" target=\"_parent\"><img src=\"https://colab.research.google.com/assets/colab-badge.svg\" alt=\"Open In Colab\"/></a>"
      ]
    },
    {
      "cell_type": "markdown",
      "source": [
        "# ヤング図形のt-coreを求める\n",
        "ヤング図形からサイズtのリムフックを除いていくと、余りはかならず０かt-coreとなる。t=2のときt-coreは段が１の階段状になる。\n",
        "下記の記事を参考に、マヤ図形を用いてt-coreを求める。\n",
        "ここではヤング図形の境界を左下から右上に進んだときの右方向を０，上方向を１とした。\n",
        "参考：[【月刊組合せ論 Natori】ヤング図形のコア【2023 年 1 月号】](https://hackmd.io/@koboshi/ByqXQ6d7s)"
      ],
      "metadata": {
        "id": "FCbK_mpPpOjG"
      }
    },
    {
      "cell_type": "code",
      "source": [
        "import matplotlib.pyplot as plt\n",
        "import numpy as np"
      ],
      "metadata": {
        "id": "FLognG-HzzIA"
      },
      "execution_count": 1,
      "outputs": []
    },
    {
      "cell_type": "code",
      "source": [
        "def t_core(X,t):\n",
        "  width=X[0]\n",
        "  maya=[0]*width\n",
        "  height=len(X)\n",
        "\n",
        "  for num in range(height):\n",
        "    index=-num-1\n",
        "    ord=X[index]\n",
        "    maya.insert(ord+num,1)\n",
        "\n",
        "  quotient=[]\n",
        "  quotient_post=[]\n",
        "  for i in range(t):\n",
        "    li=maya[i::t]\n",
        "    quotient.append(li)\n",
        "\n",
        "    post=sum(li)\n",
        "    new=li.copy()\n",
        "    for j in range(post):\n",
        "      new[j]=1\n",
        "\n",
        "    for j in range(len(li)-post):\n",
        "      new[-j-1]=0\n",
        "\n",
        "    quotient_post.append(new)\n",
        "\n",
        "  result=[new[i] for i in range(len(new)) for new in quotient_post ]\n",
        "\n",
        "  return result,(maya,quotient,quotient_post)"
      ],
      "metadata": {
        "id": "lF-yP1hXHu8A"
      },
      "execution_count": 56,
      "outputs": []
    },
    {
      "cell_type": "code",
      "source": [
        "#ランダムな値で簡易的に実験する\n",
        "def rand(length, minimum, maximum):\n",
        "    seq = np.random.randint(minimum, maximum, length)\n",
        "    descend = np.sort(seq)[::-1]\n",
        "\n",
        "    return descend"
      ],
      "metadata": {
        "id": "t5tAIOCZIjfx"
      },
      "execution_count": 57,
      "outputs": []
    },
    {
      "cell_type": "code",
      "source": [
        "#最終的なマヤ図形から余りを表す部分を抜き出す。\n",
        "def show(result):\n",
        "  arr = np.array(result)\n",
        "  start = np.where(arr == 0)[0][0]\n",
        "  end = np.where(arr== 1)[0][-1]+1\n",
        "  result = arr[start:end]\n",
        "\n",
        "  return result"
      ],
      "metadata": {
        "id": "DrM3LXI7hFyG"
      },
      "execution_count": 4,
      "outputs": []
    },
    {
      "cell_type": "markdown",
      "source": [
        "## マヤ図形を用いて2coreを求める"
      ],
      "metadata": {
        "id": "JZuT97pL_hGP"
      }
    },
    {
      "cell_type": "code",
      "source": [
        "t=2\n",
        "width_max=10\n",
        "height=5\n",
        "\n",
        "X=rand(height, 1, width_max)\n",
        "r,d=t_core(X,t)\n",
        "result=show(r)\n",
        "\n",
        "print(f\"{X}->{result}\")\n",
        "print(\"maya:\",d[0])\n",
        "print(\"t-quotient\",d[1],\"->\",d[2])\n",
        "\n",
        "x_points = [0]\n",
        "y_points = [0]\n",
        "\n",
        "x, y = 0, 0\n",
        "\n",
        "for val in result:\n",
        "    if val == 0:\n",
        "        x += 1\n",
        "    else:\n",
        "        y += 1\n",
        "\n",
        "    x_points.append(x)\n",
        "    y_points.append(y)\n",
        "\n",
        "fig, ax = plt.subplots(figsize=[4,4])\n",
        "\n",
        "ax.plot(x_points, y_points, marker='o')\n",
        "ax.set_xticks(np.arange(0,x_points[-1]+1, 1))\n",
        "ax.set_yticks(np.arange(0,y_points[-1]+1, 1))\n",
        "ax.set_aspect('equal')\n",
        "ax.grid()\n",
        "plt.show()"
      ],
      "metadata": {
        "colab": {
          "base_uri": "https://localhost:8080/",
          "height": 420
        },
        "id": "xVcEoRUw_gq3",
        "outputId": "6f2fb680-305f-4a56-e65e-18ecd6269dca"
      },
      "execution_count": 58,
      "outputs": [
        {
          "output_type": "stream",
          "name": "stdout",
          "text": [
            "[9 8 7 5 4]->[0 1]\n",
            "maya: [0, 0, 0, 0, 1, 0, 1, 0, 0, 1, 0, 1, 0, 1]\n",
            "t-quotient [[0, 0, 1, 1, 0, 0, 0], [0, 0, 0, 0, 1, 1, 1]] -> [[1, 1, 0, 0, 0, 0, 0], [1, 1, 1, 0, 0, 0, 0]]\n"
          ]
        },
        {
          "output_type": "display_data",
          "data": {
            "text/plain": [
              "<Figure size 400x400 with 1 Axes>"
            ],
            "image/png": "[encoded data removed]"
          },
          "metadata": {}
        }
      ]
    },
    {
      "cell_type": "markdown",
      "source": [
        "##t=2のとき"
      ],
      "metadata": {
        "id": "UaCGlP3qtmAK"
      }
    },
    {
      "cell_type": "code",
      "source": [
        "t=2\n",
        "n=2\n",
        "width_max=20\n",
        "height=10\n",
        "\n",
        "for i in range(n):\n",
        "  X=rand(height, 1, width_max)\n",
        "  r,d=t_core(X,t)\n",
        "  result=show(r)\n",
        "\n",
        "  print(f\"{X}->{result}\")\n",
        "  print(\"maya:\",d[0])\n",
        "  print(\"t-quotient\",d[1],\"->\",d[2])\n",
        "\n",
        "  x_points = [0]\n",
        "  y_points = [0]\n",
        "\n",
        "  x, y = 0, 0\n",
        "\n",
        "  for val in result:\n",
        "      if val == 0:\n",
        "          x += 1\n",
        "      else:\n",
        "          y += 1\n",
        "\n",
        "      x_points.append(x)\n",
        "      y_points.append(y)\n",
        "\n",
        "  fig, ax = plt.subplots(figsize=[4,4])\n",
        "\n",
        "  ax.plot(x_points, y_points, marker='o')\n",
        "  ax.set_xticks(np.arange(0,x_points[-1]+1, 1))\n",
        "  ax.set_yticks(np.arange(0,y_points[-1]+1, 1))\n",
        "  ax.set_aspect('equal')\n",
        "  ax.grid()\n",
        "  plt.show()"
      ],
      "metadata": {
        "colab": {
          "base_uri": "https://localhost:8080/",
          "height": 823
        },
        "id": "x4bkDmu_lITx",
        "outputId": "51d84515-258c-42f4-c8a1-f499a31d85d2"
      },
      "execution_count": 59,
      "outputs": [
        {
          "output_type": "stream",
          "name": "stdout",
          "text": [
            "[19 19 15 12 11 10 10  8  5  1]->[0 1 0 1 0 1]\n",
            "maya: [0, 1, 0, 0, 0, 0, 1, 0, 0, 0, 1, 0, 0, 1, 1, 0, 1, 0, 1, 0, 0, 0, 1, 0, 0, 0, 0, 1, 1]\n",
            "t-quotient [[0, 0, 0, 1, 0, 1, 0, 1, 1, 1, 0, 1, 0, 0, 1], [1, 0, 0, 0, 0, 0, 1, 0, 0, 0, 0, 0, 0, 1]] -> [[1, 1, 1, 1, 1, 1, 1, 0, 0, 0, 0, 0, 0, 0, 0], [1, 1, 1, 0, 0, 0, 0, 0, 0, 0, 0, 0, 0, 0]]\n"
          ]
        },
        {
          "output_type": "display_data",
          "data": {
            "text/plain": [
              "<Figure size 400x400 with 1 Axes>"
            ],
            "image/png": "[encoded data removed]"
          },
          "metadata": {}
        },
        {
          "output_type": "stream",
          "name": "stdout",
          "text": [
            "[18 16 15 14 13  7  5  3  2  2]->[0 1]\n",
            "maya: [0, 0, 1, 1, 0, 1, 0, 0, 1, 0, 0, 1, 0, 0, 0, 0, 0, 0, 1, 0, 1, 0, 1, 0, 1, 0, 0, 1]\n",
            "t-quotient [[0, 1, 0, 0, 1, 0, 0, 0, 0, 1, 1, 1, 1, 0], [0, 1, 1, 0, 0, 1, 0, 0, 0, 0, 0, 0, 0, 1]] -> [[1, 1, 1, 1, 1, 1, 0, 0, 0, 0, 0, 0, 0, 0], [1, 1, 1, 1, 0, 0, 0, 0, 0, 0, 0, 0, 0, 0]]\n"
          ]
        },
        {
          "output_type": "display_data",
          "data": {
            "text/plain": [
              "<Figure size 400x400 with 1 Axes>"
            ],
            "image/png": "[encoded data removed]"
          },
          "metadata": {}
        }
      ]
    },
    {
      "cell_type": "markdown",
      "source": [
        "段が１の階段状(または０)になっている"
      ],
      "metadata": {
        "id": "diWQN4pDttOZ"
      }
    },
    {
      "cell_type": "markdown",
      "source": [
        "##t=3のとき"
      ],
      "metadata": {
        "id": "n4kwf2tDzJ1X"
      }
    },
    {
      "cell_type": "code",
      "source": [
        "t=3\n",
        "n=2\n",
        "width_max=20\n",
        "height=10\n",
        "\n",
        "for i in range(n):\n",
        "  X=rand(height, 1, width_max)\n",
        "  r,d=t_core(X,t)\n",
        "  result=show(r)\n",
        "\n",
        "  print(f\"{X}->{result}\")\n",
        "  print(\"maya:\",d[0])\n",
        "  print(\"t-quotient\",d[1],\"->\",d[2])\n",
        "\n",
        "  x_points = [0]\n",
        "  y_points = [0]\n",
        "\n",
        "  x, y = 0, 0\n",
        "\n",
        "  for val in result:\n",
        "      if val == 0:\n",
        "          x += 1\n",
        "      else:\n",
        "          y += 1\n",
        "\n",
        "      x_points.append(x)\n",
        "      y_points.append(y)\n",
        "\n",
        "  fig, ax = plt.subplots(figsize=[4,4])\n",
        "  ax.plot(x_points, y_points, marker='o')\n",
        "  ax.set_xticks(np.arange(0,x_points[-1]+1, 1))\n",
        "  ax.set_yticks(np.arange(0,y_points[-1]+1, 1))\n",
        "  ax.set_aspect('equal')\n",
        "  ax.grid()\n",
        "  plt.show()"
      ],
      "metadata": {
        "colab": {
          "base_uri": "https://localhost:8080/",
          "height": 823
        },
        "id": "g-Cka9IDzT8M",
        "outputId": "d298c87c-4045-49c9-e37f-be7597cc21a7"
      },
      "execution_count": 62,
      "outputs": [
        {
          "output_type": "stream",
          "name": "stdout",
          "text": [
            "[16 15 13 13 11  9  9  7  3  2]->[0 1 1 0 1 0 0 1]\n",
            "maya: [0, 0, 1, 0, 1, 0, 0, 0, 0, 1, 0, 0, 1, 1, 0, 0, 1, 0, 0, 1, 1, 0, 0, 1, 0, 1]\n",
            "t-quotient [[0, 0, 0, 1, 1, 0, 0, 0, 0], [0, 1, 0, 0, 1, 1, 1, 0, 1], [1, 0, 0, 0, 0, 0, 1, 1]] -> [[1, 1, 0, 0, 0, 0, 0, 0, 0], [1, 1, 1, 1, 1, 0, 0, 0, 0], [1, 1, 1, 0, 0, 0, 0, 0]]\n"
          ]
        },
        {
          "output_type": "display_data",
          "data": {
            "text/plain": [
              "<Figure size 400x400 with 1 Axes>"
            ],
            "image/png": "[encoded data removed]"
          },
          "metadata": {}
        },
        {
          "output_type": "stream",
          "name": "stdout",
          "text": [
            "[18 18 18 17 16 16 10  8  7  7]->[0 1 1 0 1 1]\n",
            "maya: [0, 0, 0, 0, 0, 0, 0, 1, 1, 0, 1, 0, 0, 1, 0, 0, 0, 0, 0, 0, 1, 1, 0, 1, 0, 1, 1, 1]\n",
            "t-quotient [[0, 0, 0, 0, 0, 0, 0, 1, 0, 1], [0, 0, 1, 1, 1, 0, 0, 0, 1], [0, 0, 1, 0, 0, 0, 1, 1, 1]] -> [[1, 1, 0, 0, 0, 0, 0, 0, 0, 0], [1, 1, 1, 1, 0, 0, 0, 0, 0], [1, 1, 1, 1, 0, 0, 0, 0, 0]]\n"
          ]
        },
        {
          "output_type": "display_data",
          "data": {
            "text/plain": [
              "<Figure size 400x400 with 1 Axes>"
            ],
            "image/png": "[encoded data removed]"
          },
          "metadata": {}
        }
      ]
    },
    {
      "cell_type": "markdown",
      "source": [
        "## t=10のとき"
      ],
      "metadata": {
        "id": "WSf4xW8d0tnm"
      }
    },
    {
      "cell_type": "code",
      "source": [
        "t=10\n",
        "n=2\n",
        "width_max=50\n",
        "height=20\n",
        "\n",
        "for i in range(n):\n",
        "  X=rand(height, 1, width_max)\n",
        "  r,d=t_core(X,t)\n",
        "  result=show(r)\n",
        "\n",
        "  print(f\"{X}->{result}\")\n",
        "  print(\"maya:\",d[0])\n",
        "  print(\"t-quotient\",d[1],\"->\",d[2])\n",
        "\n",
        "  x_points = [0]\n",
        "  y_points = [0]\n",
        "\n",
        "  x, y = 0, 0\n",
        "\n",
        "  for val in result:\n",
        "      if val == 0:\n",
        "          x += 1\n",
        "      else:\n",
        "          y += 1\n",
        "\n",
        "      x_points.append(x)\n",
        "      y_points.append(y)\n",
        "\n",
        "  fig, ax = plt.subplots(figsize=[4,4])\n",
        "  ax.plot(x_points, y_points, marker='o')\n",
        "  ax.set_xticks(np.arange(0,x_points[-1]+1, 1))\n",
        "  ax.set_yticks(np.arange(0,y_points[-1]+1, 1))\n",
        "  ax.set_aspect('equal')\n",
        "  ax.grid()\n",
        "  plt.show()"
      ],
      "metadata": {
        "colab": {
          "base_uri": "https://localhost:8080/",
          "height": 718
        },
        "id": "xGzcyE_i04Pq",
        "outputId": "eb46feec-ae28-4180-889d-a56662b1967e"
      },
      "execution_count": 63,
      "outputs": [
        {
          "output_type": "stream",
          "name": "stdout",
          "text": [
            "[47 45 41 40 38 36 35 27 27 27 23 19 18 17 17 12 11 10  5  3]->[0 1 1 1 1 1 1 1 1 0 0 1 1 0 0 1 1 1 0 0 0 1 1 0 0 1 0 1 0 0 0 0 1 0 0 1]\n",
            "maya: [0, 0, 0, 1, 0, 0, 1, 0, 0, 0, 0, 0, 1, 0, 1, 0, 1, 0, 0, 0, 0, 0, 1, 1, 0, 1, 0, 1, 0, 0, 0, 0, 1, 0, 0, 0, 0, 1, 1, 1, 0, 0, 0, 0, 0, 0, 0, 0, 1, 0, 1, 0, 0, 1, 0, 0, 1, 0, 1, 0, 0, 0, 0, 1, 0, 0, 1]\n",
            "t-quotient [[0, 0, 0, 0, 0, 1, 0], [0, 0, 0, 0, 0, 0, 0], [0, 1, 1, 1, 0, 0, 0], [1, 0, 1, 0, 0, 1, 1], [0, 1, 0, 0, 0, 0, 0], [0, 0, 1, 0, 0, 0, 0], [1, 1, 0, 0, 0, 1, 1], [0, 0, 1, 1, 0, 0], [0, 0, 0, 1, 1, 1], [0, 0, 0, 1, 0, 0]] -> [[1, 0, 0, 0, 0, 0, 0], [0, 0, 0, 0, 0, 0, 0], [1, 1, 1, 0, 0, 0, 0], [1, 1, 1, 1, 0, 0, 0], [1, 0, 0, 0, 0, 0, 0], [1, 0, 0, 0, 0, 0, 0], [1, 1, 1, 1, 0, 0, 0], [1, 1, 0, 0, 0, 0], [1, 1, 1, 0, 0, 0], [1, 0, 0, 0, 0, 0]]\n"
          ]
        },
        {
          "output_type": "display_data",
          "data": {
            "text/plain": [
              "<Figure size 400x400 with 1 Axes>"
            ],
            "image/png": "[encoded data removed]"
          },
          "metadata": {}
        },
        {
          "output_type": "stream",
          "name": "stdout",
          "text": [
            "[46 41 39 31 31 28 22 21 18 18 17 13 13 12 11 10  8  6  3  2]->[0 1 1 0 1 1 1 0 1 1 0 0 0 0 0 0 1 0 1 0 0 0 0 0 0 0 1]\n",
            "maya: [0, 0, 1, 0, 1, 0, 0, 0, 1, 0, 0, 1, 0, 0, 1, 0, 1, 0, 1, 0, 1, 1, 0, 0, 0, 0, 1, 0, 1, 1, 0, 0, 0, 1, 0, 1, 0, 0, 0, 0, 0, 0, 1, 0, 0, 0, 1, 1, 0, 0, 0, 0, 0, 0, 0, 0, 1, 0, 0, 1, 0, 0, 0, 0, 0, 1]\n",
            "t-quotient [[0, 0, 1, 0, 0, 0, 0], [0, 1, 1, 0, 0, 0, 0], [1, 0, 0, 0, 1, 0, 0], [0, 0, 0, 1, 0, 0, 0], [1, 1, 0, 0, 0, 0, 0], [0, 0, 0, 1, 0, 0, 1], [0, 1, 1, 0, 1, 1], [0, 0, 0, 0, 1, 0], [1, 1, 1, 0, 0, 0], [0, 0, 1, 0, 0, 1]] -> [[1, 0, 0, 0, 0, 0, 0], [1, 1, 0, 0, 0, 0, 0], [1, 1, 0, 0, 0, 0, 0], [1, 0, 0, 0, 0, 0, 0], [1, 1, 0, 0, 0, 0, 0], [1, 1, 0, 0, 0, 0, 0], [1, 1, 1, 1, 0, 0], [1, 0, 0, 0, 0, 0], [1, 1, 1, 0, 0, 0], [1, 1, 0, 0, 0, 0]]\n"
          ]
        },
        {
          "output_type": "display_data",
          "data": {
            "text/plain": [
              "<Figure size 400x400 with 1 Axes>"
            ],
            "image/png": "[encoded data removed]"
          },
          "metadata": {}
        }
      ]
    },
    {
      "cell_type": "code",
      "source": [],
      "metadata": {
        "id": "67Tq34Lu_WaD"
      },
      "execution_count": null,
      "outputs": []
    }
  ]
}